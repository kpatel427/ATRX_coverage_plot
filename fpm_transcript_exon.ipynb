{
 "cells": [
  {
   "cell_type": "code",
   "execution_count": 2,
   "metadata": {},
   "outputs": [],
   "source": [
    "import pandas as pd\n",
    "import seaborn as sns\n",
    "import matplotlib.pyplot as plt\n",
    "import numpy as np\n",
    "#%matplotlib qt\n",
    "\n",
    "# Total FPKM score for every Transcript across all models\n",
    "\n",
    "lst_samples = []\n",
    "lst_transcripts = []\n",
    "\n",
    "df = pd.read_csv('/Users/patelk26/Desktop/ATRX_coverage/ATRX_exon_coverage_NBLsamples.csv')\n",
    "#df.head()\n",
    "\n",
    "# To sum FPKM score for every transcript across all models\n",
    "df1 = df.groupby(['Sample','transcript','exon_n']).agg({'FPKM': 'sum'})\n",
    "df1\n",
    "# writing to a csv\n",
    "df1.to_csv('/Users/patelk26/Desktop/ATRX_coverage/FPKM_transcripts_per_exon.csv', sep=',')"
   ]
  },
  {
   "cell_type": "code",
   "execution_count": null,
   "metadata": {},
   "outputs": [],
   "source": []
  }
 ],
 "metadata": {
  "kernelspec": {
   "display_name": "Python 3",
   "language": "python",
   "name": "python3"
  },
  "language_info": {
   "codemirror_mode": {
    "name": "ipython",
    "version": 3
   },
   "file_extension": ".py",
   "mimetype": "text/x-python",
   "name": "python",
   "nbconvert_exporter": "python",
   "pygments_lexer": "ipython3",
   "version": "3.6.5"
  }
 },
 "nbformat": 4,
 "nbformat_minor": 2
}
